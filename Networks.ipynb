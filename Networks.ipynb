{
 "cells": [
  {
   "cell_type": "code",
   "execution_count": 1,
   "metadata": {},
   "outputs": [],
   "source": [
    "from Utils.utils import start_environment\n",
    "import Utils.data_utils as data\n",
    "import os"
   ]
  },
  {
   "cell_type": "code",
   "execution_count": 2,
   "metadata": {},
   "outputs": [],
   "source": [
    "start_environment()"
   ]
  },
  {
   "cell_type": "code",
   "execution_count": 3,
   "metadata": {},
   "outputs": [],
   "source": [
    "PATH_W2V = \"../w2v/wikipedia-pubmed-and-PMC-w2v.bin\"\n",
    "PATH_DATA = \"../data/\"\n",
    "\n",
    "PATH_TRAIN = PATH_DATA + \"drugsComTrain_raw.tsv\"\n",
    "PATH_TEST = PATH_DATA + \"drugsComTest_raw.tsv\""
   ]
  },
  {
   "cell_type": "markdown",
   "metadata": {},
   "source": [
    "# DATA"
   ]
  },
  {
   "cell_type": "code",
   "execution_count": 4,
   "metadata": {},
   "outputs": [
    {
     "name": "stderr",
     "output_type": "stream",
     "text": [
      "Using TensorFlow backend.\n"
     ]
    }
   ],
   "source": [
    "import pandas as pd \n",
    "import numpy as np\n",
    "import matplotlib.pyplot as plt\n",
    "from keras.preprocessing.text import Tokenizer\n",
    "from dl_models import ModelGenerator\n",
    "# Might need to install punkt and stopwords\n",
    "import nltk\n",
    "#nltk.download('punkt')\n",
    "#nltk.download('stopwords')"
   ]
  },
  {
   "cell_type": "code",
   "execution_count": 5,
   "metadata": {},
   "outputs": [
    {
     "name": "stdout",
     "output_type": "stream",
     "text": [
      "Loaded W2V model\n"
     ]
    }
   ],
   "source": [
    "from keras.preprocessing.sequence import pad_sequences\n",
    "\n",
    "MAX_NB_WORDS = 30000\n",
    "EMBEDDING_DIM = 200\n",
    "MAX_SEQUENCE_LENGTH = 250\n",
    "\n",
    "# Load the data\n",
    "dataset = data.Dataset()\n",
    "dataset.load_csv(PATH_TRAIN, PATH_TEST, label_name='rating', separator='\\t', columns=[3,4])\n",
    "dataset.make_dev_split()\n",
    "\n",
    "\n",
    "# Define the model for the embeddings and the tokenizer\n",
    "model = ModelGenerator.load_W2V_model(PATH_W2V, binary=True)\n",
    "tokenizer = Tokenizer(num_words=MAX_NB_WORDS)"
   ]
  },
  {
   "cell_type": "code",
   "execution_count": 6,
   "metadata": {},
   "outputs": [],
   "source": [
    "# Loaded Data\n",
    "df_train, df_test, df_dev = dataset.get_all()"
   ]
  },
  {
   "cell_type": "code",
   "execution_count": 7,
   "metadata": {},
   "outputs": [],
   "source": [
    "# Fit the tokenizer\n",
    "tokenizer.fit_on_texts(df_train[\"review\"].values)\n",
    "\n",
    "# We tokenize the sentences, as well as clean them. These texts are turned into sequences.\n",
    "df_train[\"tokenized_review\"] = tokenizer.texts_to_sequences(df_train[\"review\"])"
   ]
  },
  {
   "cell_type": "code",
   "execution_count": 8,
   "metadata": {
    "scrolled": false
   },
   "outputs": [
    {
     "data": {
      "image/png": "[encoded data removed]",
      "text/plain": [
       "<Figure size 432x288 with 1 Axes>"
      ]
     },
     "metadata": {
      "needs_background": "light"
     },
     "output_type": "display_data"
    }
   ],
   "source": [
    "# Get the histogram to know the maximum size of the writtings\n",
    "plt.hist([len(e) for e in df_train[\"tokenized_review\"]], cumulative=True, bins=100)\n",
    "plt.show()"
   ]
  },
  {
   "cell_type": "code",
   "execution_count": 9,
   "metadata": {},
   "outputs": [],
   "source": [
    "padded_review = pad_sequences(df_train[\"tokenized_review\"], MAX_SEQUENCE_LENGTH)\n",
    "df_train[\"padded_review\"] = list(padded_review)"
   ]
  },
  {
   "cell_type": "code",
   "execution_count": 10,
   "metadata": {},
   "outputs": [
    {
     "name": "stdout",
     "output_type": "stream",
     "text": [
      "Hits: 24004\n",
      "Total: 30000\n"
     ]
    }
   ],
   "source": [
    "embedding_matrix = ModelGenerator.generate_embedding_matrix(tokenizer.word_index, MAX_NB_WORDS, model)"
   ]
  },
  {
   "cell_type": "markdown",
   "metadata": {},
   "source": [
    "# NETWORKS"
   ]
  },
  {
   "cell_type": "code",
   "execution_count": 11,
   "metadata": {},
   "outputs": [],
   "source": [
    "import tensorflow as tf\n",
    "import pandas as pd\n"
   ]
  },
  {
   "cell_type": "code",
   "execution_count": 12,
   "metadata": {},
   "outputs": [],
   "source": [
    "from keras.layers import LSTM, GRU\n",
    "\n",
    "\n",
    "### WARNING ###\n",
    "# The experiments will be conformed by all the possible combination of parameters.\n",
    "# The growth is then, exponential.\n",
    "# Caution is advised.\n",
    "\n",
    "input_length = [MAX_SEQUENCE_LENGTH]\n",
    "output_length = [1]\n",
    "load_emb = [False]\n",
    "emb_size = [300]\n",
    "vocabulary_length = [5000]\n",
    "trainable_emb = [True]\n",
    "cnn_size = [[64], [64, 64], [128], [128, 128]]\n",
    "cnn_filter = [[3], [10]]\n",
    "rnn_size = [[None]]\n",
    "cell_type = [LSTM]\n",
    "bidirectional = [False]\n",
    "attention = [False]\n",
    "dropout = [0.5]\n",
    "dnn_size = [[32]]\n",
    "batch_size = [None]\n",
    "epochs = [20]\n",
    "patience = [4]\n",
    "\n",
    "# TODO process those two lists as a dictionary instead.\n",
    "param   = [input_length, output_length, load_emb, emb_size, vocabulary_length, trainable_emb, cnn_size, cnn_filter, rnn_size, cell_type, bidirectional, attention, dropout, dnn_size, batch_size]\n",
    "indexes = [\"input_length\", \"output_length\", \"load_emb\", \"emb_size\", \"vocabulary_length\", \"trainable_emb\", \"cnn_size\", \"cnn_filter\", \"rnn_size\", \"cell_type\", \"bidirectional\", \"attention\", \"dropout\", \"dnn_size\", \"batch_size\"]"
   ]
  },
  {
   "cell_type": "code",
   "execution_count": 13,
   "metadata": {},
   "outputs": [],
   "source": [
    "from dl_models import ModelExperiments"
   ]
  },
  {
   "cell_type": "code",
   "execution_count": 14,
   "metadata": {},
   "outputs": [],
   "source": [
    "me = ModelExperiments(param, indexes)"
   ]
  },
  {
   "cell_type": "code",
   "execution_count": 15,
   "metadata": {},
   "outputs": [
    {
     "name": "stdout",
     "output_type": "stream",
     "text": [
      "_________________________________________________________________\n",
      "Layer (type)                 Output Shape              Param #   \n",
      "=================================================================\n",
      "inputs (InputLayer)          (None, 250)               0         \n",
      "_________________________________________________________________\n",
      "embedding_1 (Embedding)      (None, 250, 300)          1500000   \n",
      "_________________________________________________________________\n",
      "conv1d_1 (Conv1D)            (None, 248, 64)           57664     \n",
      "_________________________________________________________________\n",
      "max_pooling1d_1 (MaxPooling1 (None, 82, 64)            0         \n",
      "_________________________________________________________________\n",
      "flatten_1 (Flatten)          (None, 5248)              0         \n",
      "_________________________________________________________________\n",
      "dense_1 (Dense)              (None, 32)                167968    \n",
      "_________________________________________________________________\n",
      "dropout_1 (Dropout)          (None, 32)                0         \n",
      "_________________________________________________________________\n",
      "output_layer (Dense)         (None, 1)                 33        \n",
      "=================================================================\n",
      "Total params: 1,725,665\n",
      "Trainable params: 1,725,665\n",
      "Non-trainable params: 0\n",
      "_________________________________________________________________\n",
      "_________________________________________________________________\n",
      "Layer (type)                 Output Shape              Param #   \n",
      "=================================================================\n",
      "inputs (InputLayer)          (None, 250)               0         \n",
      "_________________________________________________________________\n",
      "embedding_2 (Embedding)      (None, 250, 300)          1500000   \n",
      "_________________________________________________________________\n",
      "conv1d_2 (Conv1D)            (None, 241, 64)           192064    \n",
      "_________________________________________________________________\n",
      "max_pooling1d_2 (MaxPooling1 (None, 24, 64)            0         \n",
      "_________________________________________________________________\n",
      "flatten_2 (Flatten)          (None, 1536)              0         \n",
      "_________________________________________________________________\n",
      "dense_2 (Dense)              (None, 32)                49184     \n",
      "_________________________________________________________________\n",
      "dropout_2 (Dropout)          (None, 32)                0         \n",
      "_________________________________________________________________\n",
      "output_layer (Dense)         (None, 1)                 33        \n",
      "=================================================================\n",
      "Total params: 1,741,281\n",
      "Trainable params: 1,741,281\n",
      "Non-trainable params: 0\n",
      "_________________________________________________________________\n",
      "_________________________________________________________________\n",
      "Layer (type)                 Output Shape              Param #   \n",
      "=================================================================\n",
      "inputs (InputLayer)          (None, 250)               0         \n",
      "_________________________________________________________________\n",
      "embedding_3 (Embedding)      (None, 250, 300)          1500000   \n",
      "_________________________________________________________________\n",
      "conv1d_3 (Conv1D)            (None, 248, 64)           57664     \n",
      "_________________________________________________________________\n",
      "max_pooling1d_3 (MaxPooling1 (None, 82, 64)            0         \n",
      "_________________________________________________________________\n",
      "conv1d_4 (Conv1D)            (None, 80, 64)            12352     \n",
      "_________________________________________________________________\n",
      "max_pooling1d_4 (MaxPooling1 (None, 26, 64)            0         \n",
      "_________________________________________________________________\n",
      "flatten_3 (Flatten)          (None, 1664)              0         \n",
      "_________________________________________________________________\n",
      "dense_3 (Dense)              (None, 32)                53280     \n",
      "_________________________________________________________________\n",
      "dropout_3 (Dropout)          (None, 32)                0         \n",
      "_________________________________________________________________\n",
      "output_layer (Dense)         (None, 1)                 33        \n",
      "=================================================================\n",
      "Total params: 1,623,329\n",
      "Trainable params: 1,623,329\n",
      "Non-trainable params: 0\n",
      "_________________________________________________________________\n",
      "_________________________________________________________________\n",
      "Layer (type)                 Output Shape              Param #   \n",
      "=================================================================\n",
      "inputs (InputLayer)          (None, 250)               0         \n",
      "_________________________________________________________________\n",
      "embedding_4 (Embedding)      (None, 250, 300)          1500000   \n",
      "_________________________________________________________________\n",
      "conv1d_5 (Conv1D)            (None, 241, 64)           192064    \n",
      "_________________________________________________________________\n",
      "max_pooling1d_5 (MaxPooling1 (None, 24, 64)            0         \n",
      "_________________________________________________________________\n",
      "conv1d_6 (Conv1D)            (None, 15, 64)            41024     \n",
      "_________________________________________________________________\n",
      "max_pooling1d_6 (MaxPooling1 (None, 1, 64)             0         \n",
      "_________________________________________________________________\n",
      "flatten_4 (Flatten)          (None, 64)                0         \n",
      "_________________________________________________________________\n",
      "dense_4 (Dense)              (None, 32)                2080      \n",
      "_________________________________________________________________\n",
      "dropout_4 (Dropout)          (None, 32)                0         \n",
      "_________________________________________________________________\n",
      "output_layer (Dense)         (None, 1)                 33        \n",
      "=================================================================\n",
      "Total params: 1,735,201\n",
      "Trainable params: 1,735,201\n",
      "Non-trainable params: 0\n",
      "_________________________________________________________________\n",
      "_________________________________________________________________\n",
      "Layer (type)                 Output Shape              Param #   \n",
      "=================================================================\n",
      "inputs (InputLayer)          (None, 250)               0         \n",
      "_________________________________________________________________\n",
      "embedding_5 (Embedding)      (None, 250, 300)          1500000   \n",
      "_________________________________________________________________\n",
      "conv1d_7 (Conv1D)            (None, 248, 128)          115328    \n",
      "_________________________________________________________________\n",
      "max_pooling1d_7 (MaxPooling1 (None, 82, 128)           0         \n",
      "_________________________________________________________________\n",
      "flatten_5 (Flatten)          (None, 10496)             0         \n",
      "_________________________________________________________________\n",
      "dense_5 (Dense)              (None, 32)                335904    \n",
      "_________________________________________________________________\n",
      "dropout_5 (Dropout)          (None, 32)                0         \n",
      "_________________________________________________________________\n",
      "output_layer (Dense)         (None, 1)                 33        \n",
      "=================================================================\n",
      "Total params: 1,951,265\n",
      "Trainable params: 1,951,265\n",
      "Non-trainable params: 0\n",
      "_________________________________________________________________\n",
      "_________________________________________________________________\n",
      "Layer (type)                 Output Shape              Param #   \n",
      "=================================================================\n",
      "inputs (InputLayer)          (None, 250)               0         \n",
      "_________________________________________________________________\n",
      "embedding_6 (Embedding)      (None, 250, 300)          1500000   \n",
      "_________________________________________________________________\n",
      "conv1d_8 (Conv1D)            (None, 241, 128)          384128    \n",
      "_________________________________________________________________\n",
      "max_pooling1d_8 (MaxPooling1 (None, 24, 128)           0         \n",
      "_________________________________________________________________\n",
      "flatten_6 (Flatten)          (None, 3072)              0         \n",
      "_________________________________________________________________\n",
      "dense_6 (Dense)              (None, 32)                98336     \n",
      "_________________________________________________________________\n",
      "dropout_6 (Dropout)          (None, 32)                0         \n",
      "_________________________________________________________________\n",
      "output_layer (Dense)         (None, 1)                 33        \n",
      "=================================================================\n",
      "Total params: 1,982,497\n",
      "Trainable params: 1,982,497\n",
      "Non-trainable params: 0\n",
      "_________________________________________________________________\n"
     ]
    },
    {
     "name": "stdout",
     "output_type": "stream",
     "text": [
      "_________________________________________________________________\n",
      "Layer (type)                 Output Shape              Param #   \n",
      "=================================================================\n",
      "inputs (InputLayer)          (None, 250)               0         \n",
      "_________________________________________________________________\n",
      "embedding_7 (Embedding)      (None, 250, 300)          1500000   \n",
      "_________________________________________________________________\n",
      "conv1d_9 (Conv1D)            (None, 248, 128)          115328    \n",
      "_________________________________________________________________\n",
      "max_pooling1d_9 (MaxPooling1 (None, 82, 128)           0         \n",
      "_________________________________________________________________\n",
      "conv1d_10 (Conv1D)           (None, 80, 128)           49280     \n",
      "_________________________________________________________________\n",
      "max_pooling1d_10 (MaxPooling (None, 26, 128)           0         \n",
      "_________________________________________________________________\n",
      "flatten_7 (Flatten)          (None, 3328)              0         \n",
      "_________________________________________________________________\n",
      "dense_7 (Dense)              (None, 32)                106528    \n",
      "_________________________________________________________________\n",
      "dropout_7 (Dropout)          (None, 32)                0         \n",
      "_________________________________________________________________\n",
      "output_layer (Dense)         (None, 1)                 33        \n",
      "=================================================================\n",
      "Total params: 1,771,169\n",
      "Trainable params: 1,771,169\n",
      "Non-trainable params: 0\n",
      "_________________________________________________________________\n",
      "_________________________________________________________________\n",
      "Layer (type)                 Output Shape              Param #   \n",
      "=================================================================\n",
      "inputs (InputLayer)          (None, 250)               0         \n",
      "_________________________________________________________________\n",
      "embedding_8 (Embedding)      (None, 250, 300)          1500000   \n",
      "_________________________________________________________________\n",
      "conv1d_11 (Conv1D)           (None, 241, 128)          384128    \n",
      "_________________________________________________________________\n",
      "max_pooling1d_11 (MaxPooling (None, 24, 128)           0         \n",
      "_________________________________________________________________\n",
      "conv1d_12 (Conv1D)           (None, 15, 128)           163968    \n",
      "_________________________________________________________________\n",
      "max_pooling1d_12 (MaxPooling (None, 1, 128)            0         \n",
      "_________________________________________________________________\n",
      "flatten_8 (Flatten)          (None, 128)               0         \n",
      "_________________________________________________________________\n",
      "dense_8 (Dense)              (None, 32)                4128      \n",
      "_________________________________________________________________\n",
      "dropout_8 (Dropout)          (None, 32)                0         \n",
      "_________________________________________________________________\n",
      "output_layer (Dense)         (None, 1)                 33        \n",
      "=================================================================\n",
      "Total params: 2,052,257\n",
      "Trainable params: 2,052,257\n",
      "Non-trainable params: 0\n",
      "_________________________________________________________________\n"
     ]
    }
   ],
   "source": [
    "models, experiment_names = me.compile_models(verbose=True)"
   ]
  },
  {
   "cell_type": "code",
   "execution_count": 16,
   "metadata": {},
   "outputs": [
    {
     "name": "stdout",
     "output_type": "stream",
     "text": [
      "\n",
      "\n",
      "********************************************\n",
      "\n",
      "input_length_250_output_length_1_load_emb_False_emb_size_300_vocabulary_length_5000_trainable_emb_True_cnn_size_128-128_cnn_filter_3_rnn_size_None_cell_type_LSTM_bidirectional_False_attention_False_dropout_0.5_dnn_size_32_batch_size_None\n",
      "Callbacks are the following\n",
      "[<keras.callbacks.ReduceLROnPlateau object at 0x7ef9a47f95c0>, <keras.callbacks.EarlyStopping object at 0x7ef9a47f95f8>, <keras.callbacks.TensorBoard object at 0x7ef9b6227400>]\n",
      "Train on 96777 samples, validate on 32260 samples\n",
      "Epoch 1/20\n",
      "96777/96777 [==============================] - 19s 194us/step - loss: -95.3857 - binary_accuracy: 0.1351 - val_loss: -95.5288 - val_binary_accuracy: 0.1324\n",
      "Epoch 2/20\n",
      "96777/96777 [==============================] - 18s 182us/step - loss: -95.5612 - binary_accuracy: 0.1351 - val_loss: -95.5288 - val_binary_accuracy: 0.1324\n",
      "Epoch 3/20\n",
      "96777/96777 [==============================] - 18s 183us/step - loss: -95.5612 - binary_accuracy: 0.1351 - val_loss: -95.5288 - val_binary_accuracy: 0.1324\n",
      "Epoch 4/20\n",
      "96777/96777 [==============================] - 18s 183us/step - loss: -95.5612 - binary_accuracy: 0.1351 - val_loss: -95.5288 - val_binary_accuracy: 0.1324\n",
      "Epoch 5/20\n",
      "96777/96777 [==============================] - 18s 183us/step - loss: -95.5612 - binary_accuracy: 0.1351 - val_loss: -95.5288 - val_binary_accuracy: 0.1324\n",
      "\n",
      "\n",
      "********************************************\n",
      "\n",
      "input_length_250_output_length_1_load_emb_False_emb_size_300_vocabulary_length_5000_trainable_emb_True_cnn_size_128-128_cnn_filter_10_rnn_size_None_cell_type_LSTM_bidirectional_False_attention_False_dropout_0.5_dnn_size_32_batch_size_None\n",
      "Callbacks are the following\n",
      "[<keras.callbacks.ReduceLROnPlateau object at 0x7ef9a47f9978>, <keras.callbacks.EarlyStopping object at 0x7ef99e4f5748>, <keras.callbacks.TensorBoard object at 0x7ef9a47f9940>]\n",
      "Train on 96777 samples, validate on 32260 samples\n",
      "Epoch 1/20\n",
      "96777/96777 [==============================] - 23s 233us/step - loss: -94.3147 - binary_accuracy: 0.1346 - val_loss: -95.5288 - val_binary_accuracy: 0.1324\n",
      "Epoch 2/20\n",
      "96777/96777 [==============================] - 22s 230us/step - loss: -94.3137 - binary_accuracy: 0.1346 - val_loss: -95.5288 - val_binary_accuracy: 0.1324\n",
      "Epoch 3/20\n",
      "96777/96777 [==============================] - 22s 231us/step - loss: -94.7773 - binary_accuracy: 0.1348 - val_loss: -95.5288 - val_binary_accuracy: 0.1324\n",
      "Epoch 4/20\n",
      "96777/96777 [==============================] - 22s 231us/step - loss: -94.9939 - binary_accuracy: 0.1348 - val_loss: -95.5288 - val_binary_accuracy: 0.1324\n",
      "Epoch 5/20\n",
      "96777/96777 [==============================] - 22s 230us/step - loss: -94.9754 - binary_accuracy: 0.1348 - val_loss: -95.5288 - val_binary_accuracy: 0.1324\n"
     ]
    }
   ],
   "source": [
    "me.train_models(padded_review, df_train[\"rating\"], retrain_models=False)"
   ]
  },
  {
   "cell_type": "code",
   "execution_count": 22,
   "metadata": {},
   "outputs": [
    {
     "name": "stdout",
     "output_type": "stream",
     "text": [
      "Traceback (most recent call last):\r\n",
      "  File \"/usr/local/bin/tensorboard\", line 11, in <module>\r\n",
      "    sys.exit(run_main())\r\n",
      "  File \"/usr/local/lib/python3.6/dist-packages/tensorboard/main.py\", line 51, in run_main\r\n",
      "    program.setup_environment()\r\n",
      "  File \"/usr/local/lib/python3.6/dist-packages/tensorboard/program.py\", line 69, in setup_environment\r\n",
      "    util.setup_logging()\r\n",
      "  File \"/usr/local/lib/python3.6/dist-packages/tensorboard/util.py\", line 50, in setup_logging\r\n",
      "    locale.setlocale(locale.LC_ALL, '')\r\n",
      "  File \"/usr/lib/python3.6/locale.py\", line 598, in setlocale\r\n",
      "    return _setlocale(category, locale)\r\n",
      "locale.Error: unsupported locale setting\r\n",
      "Error in sys.excepthook:\r\n",
      "Traceback (most recent call last):\r\n",
      "  File \"/usr/lib/python3/dist-packages/apport_python_hook.py\", line 63, in apport_excepthook\r\n",
      "    from apport.fileutils import likely_packaged, get_recent_crashes\r\n",
      "  File \"/usr/lib/python3/dist-packages/apport/__init__.py\", line 5, in <module>\r\n",
      "    from apport.report import Report\r\n",
      "  File \"/usr/lib/python3/dist-packages/apport/report.py\", line 30, in <module>\r\n",
      "    import apport.fileutils\r\n",
      "  File \"/usr/lib/python3/dist-packages/apport/fileutils.py\", line 23, in <module>\r\n",
      "    from apport.packaging_impl import impl as packaging\r\n",
      "  File \"/usr/lib/python3/dist-packages/apport/packaging_impl.py\", line 23, in <module>\r\n",
      "    import apt\r\n",
      "  File \"/usr/lib/python3/dist-packages/apt/__init__.py\", line 23, in <module>\r\n",
      "    import apt_pkg\r\n",
      "ModuleNotFoundError: No module named 'apt_pkg'\r\n",
      "\r\n",
      "Original exception was:\r\n",
      "Traceback (most recent call last):\r\n",
      "  File \"/usr/local/bin/tensorboard\", line 11, in <module>\r\n",
      "    sys.exit(run_main())\r\n",
      "  File \"/usr/local/lib/python3.6/dist-packages/tensorboard/main.py\", line 51, in run_main\r\n",
      "    program.setup_environment()\r\n",
      "  File \"/usr/local/lib/python3.6/dist-packages/tensorboard/program.py\", line 69, in setup_environment\r\n",
      "    util.setup_logging()\r\n",
      "  File \"/usr/local/lib/python3.6/dist-packages/tensorboard/util.py\", line 50, in setup_logging\r\n",
      "    locale.setlocale(locale.LC_ALL, '')\r\n",
      "  File \"/usr/lib/python3.6/locale.py\", line 598, in setlocale\r\n",
      "    return _setlocale(category, locale)\r\n",
      "locale.Error: unsupported locale setting\r\n"
     ]
    }
   ],
   "source": [
    "!tensorboard --logdir=models/logs/input_length_250_output_length_1_load_emb_False_emb_size_300_vocabulary_length_5000_trainable_emb_True_cnn_size_128-128_cnn_filter_10_rnn_size_None_cell_type_LSTM_bidirectional_False_attention_False_dropout_0.5_dnn_size_32_batch_size_None"
   ]
  },
  {
   "cell_type": "code",
   "execution_count": 21,
   "metadata": {},
   "outputs": [
    {
     "name": "stdout",
     "output_type": "stream",
     "text": [
      "[sudo] password for praez: perl: warning: Setting locale failed.\n",
      "perl: warning: Please check that your locale settings:\n",
      "\tLANGUAGE = \"en_US:en\",\n",
      "\tLC_ALL = (unset),\n",
      "\tLC_TIME = \"es_ES.UTF-8\",\n",
      "\tLC_MONETARY = \"es_ES.UTF-8\",\n",
      "\tLC_CTYPE = \"en_AU.UTF-8\",\n",
      "\tLC_ADDRESS = \"es_ES.UTF-8\",\n",
      "\tLC_TELEPHONE = \"es_ES.UTF-8\",\n",
      "\tLC_NAME = \"es_ES.UTF-8\",\n",
      "\tLC_MEASUREMENT = \"es_ES.UTF-8\",\n",
      "\tLC_IDENTIFICATION = \"es_ES.UTF-8\",\n",
      "\tLC_NUMERIC = \"es_ES.UTF-8\",\n",
      "\tLC_PAPER = \"es_ES.UTF-8\",\n",
      "\tLANG = \"en_US.UTF-8\"\n",
      "    are supported and installed on your system.\n",
      "perl: warning: Falling back to a fallback locale (\"en_US.UTF-8\").\n"
     ]
    }
   ],
   "source": [
    "!export LC_ALL=\"en_US.UTF-8\"\n",
    "!export LC_CTYPE=\"en_US.UTF-8\"\n",
    "!echo 1234 |sudo -S update-locale LANG=en_HK.UTF-8"
   ]
  },
  {
   "cell_type": "code",
   "execution_count": 19,
   "metadata": {},
   "outputs": [],
   "source": [
    "!export LC_ALL=C"
   ]
  }
 ],
 "metadata": {
  "kernelspec": {
   "display_name": "Python 3",
   "language": "python",
   "name": "python3"
  },
  "language_info": {
   "codemirror_mode": {
    "name": "ipython",
    "version": 3
   },
   "file_extension": ".py",
   "mimetype": "text/x-python",
   "name": "python",
   "nbconvert_exporter": "python",
   "pygments_lexer": "ipython3",
   "version": "3.6.7"
  }
 },
 "nbformat": 4,
 "nbformat_minor": 2
}
